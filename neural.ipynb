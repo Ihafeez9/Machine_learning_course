{
 "cells": [
  {
   "cell_type": "code",
   "execution_count": 1,
   "metadata": {},
   "outputs": [],
   "source": [
    "import pandas as pd\n",
    "feats = pd.read_csv(\"bank_data_feats_a2.csv\")\n",
    "target = pd.read_csv(\"bank_data_target_e3.csv\")"
   ]
  },
  {
   "cell_type": "code",
   "execution_count": 2,
   "metadata": {},
   "outputs": [],
   "source": [
    "from sklearn.model_selection import train_test_split\n",
    "test_size = 0.2\n",
    "random_state = 42"
   ]
  },
  {
   "cell_type": "code",
   "execution_count": 3,
   "metadata": {},
   "outputs": [],
   "source": [
    "X_train, X_test, y_train, y_test = train_test_split(feats, target, test_size=test_size, random_state=random_state)"
   ]
  },
  {
   "cell_type": "code",
   "execution_count": 4,
   "metadata": {},
   "outputs": [
    {
     "name": "stderr",
     "output_type": "stream",
     "text": [
      "Using TensorFlow backend.\n"
     ]
    }
   ],
   "source": [
    "from keras.models import Sequential\n",
    "model = Sequential()"
   ]
  },
  {
   "cell_type": "code",
   "execution_count": 5,
   "metadata": {},
   "outputs": [],
   "source": [
    "from keras.layers import Dense\n",
    "model.add(Dense(1, input_dim=X_train.shape[1]))"
   ]
  },
  {
   "cell_type": "code",
   "execution_count": 6,
   "metadata": {},
   "outputs": [],
   "source": [
    "from keras.layers import Activation\n",
    "model.add(Activation(\"sigmoid\"))"
   ]
  },
  {
   "cell_type": "code",
   "execution_count": 7,
   "metadata": {},
   "outputs": [],
   "source": [
    "model.compile(optimizer=\"adam\", loss=\"binary_crossentropy\" , metrics=[\"accuracy\"])"
   ]
  },
  {
   "cell_type": "code",
   "execution_count": 8,
   "metadata": {},
   "outputs": [
    {
     "name": "stdout",
     "output_type": "stream",
     "text": [
      "Model: \"sequential_1\"\n",
      "_________________________________________________________________\n",
      "Layer (type)                 Output Shape              Param #   \n",
      "=================================================================\n",
      "dense_1 (Dense)              (None, 1)                 33        \n",
      "_________________________________________________________________\n",
      "activation_1 (Activation)    (None, 1)                 0         \n",
      "=================================================================\n",
      "Total params: 33\n",
      "Trainable params: 33\n",
      "Non-trainable params: 0\n",
      "_________________________________________________________________\n",
      "None\n"
     ]
    }
   ],
   "source": [
    "print(model.summary())"
   ]
  },
  {
   "cell_type": "code",
   "execution_count": 9,
   "metadata": {},
   "outputs": [
    {
     "name": "stdout",
     "output_type": "stream",
     "text": [
      "Train on 26360 samples, validate on 6590 samples\n",
      "Epoch 1/10\n",
      "26360/26360 [==============================] - 1s 34us/step - loss: 21.3335 - accuracy: 0.8917 - val_loss: 2.0213 - val_accuracy: 0.9009\n",
      "Epoch 2/10\n",
      "26360/26360 [==============================] - 1s 30us/step - loss: 1.1688 - accuracy: 0.8677 - val_loss: 1.0398 - val_accuracy: 0.7590\n",
      "Epoch 3/10\n",
      "26360/26360 [==============================] - 1s 30us/step - loss: 0.9443 - accuracy: 0.8676 - val_loss: 0.8285 - val_accuracy: 0.9027\n",
      "Epoch 4/10\n",
      "26360/26360 [==============================] - 1s 29us/step - loss: 0.7593 - accuracy: 0.8729 - val_loss: 1.8395 - val_accuracy: 0.5762\n",
      "Epoch 5/10\n",
      "26360/26360 [==============================] - 1s 30us/step - loss: 0.6934 - accuracy: 0.8739 - val_loss: 0.4479 - val_accuracy: 0.8873\n",
      "Epoch 6/10\n",
      "26360/26360 [==============================] - 1s 30us/step - loss: 0.6389 - accuracy: 0.8739 - val_loss: 0.3224 - val_accuracy: 0.9064\n",
      "Epoch 7/10\n",
      "26360/26360 [==============================] - 1s 30us/step - loss: 0.5844 - accuracy: 0.8764 - val_loss: 0.3159 - val_accuracy: 0.9039\n",
      "Epoch 8/10\n",
      "26360/26360 [==============================] - 1s 30us/step - loss: 0.6147 - accuracy: 0.8773 - val_loss: 0.7952 - val_accuracy: 0.8869\n",
      "Epoch 9/10\n",
      "26360/26360 [==============================] - 1s 29us/step - loss: 0.6267 - accuracy: 0.8796 - val_loss: 0.4761 - val_accuracy: 0.9052\n",
      "Epoch 10/10\n",
      "26360/26360 [==============================] - 1s 30us/step - loss: 0.4933 - accuracy: 0.8827 - val_loss: 0.2487 - val_accuracy: 0.9041\n"
     ]
    }
   ],
   "source": [
    "history = model.fit(X_train, y_train[\"y\"], epochs=10, validation_split=0.2)"
   ]
  },
  {
   "cell_type": "code",
   "execution_count": 10,
   "metadata": {},
   "outputs": [
    {
     "data": {
      "image/png": "[encoded data removed]",
      "text/plain": [
       "<Figure size 432x288 with 1 Axes>"
      ]
     },
     "metadata": {
      "needs_background": "light"
     },
     "output_type": "display_data"
    }
   ],
   "source": [
    "import matplotlib.pyplot as plt\n",
    "%matplotlib inline\n",
    "# Plot training and validation accuracy values\n",
    "plt.plot(history.history[\"accuracy\"])\n",
    "plt.plot(history.history[\"val_accuracy\"])\n",
    "plt.title(\"Model accuracy\")\n",
    "plt.ylabel(\"Accuracy\")\n",
    "plt.xlabel(\"Epoch\")\n",
    "plt.legend([\"Train\", \"Validation\"], loc=\"upper left\")\n",
    "plt.show()"
   ]
  },
  {
   "cell_type": "code",
   "execution_count": 11,
   "metadata": {},
   "outputs": [
    {
     "data": {
      "image/png": "[encoded data removed]",
      "text/plain": [
       "<Figure size 432x288 with 1 Axes>"
      ]
     },
     "metadata": {
      "needs_background": "light"
     },
     "output_type": "display_data"
    }
   ],
   "source": [
    "# Plot training and validation loss values\n",
    "plt.plot(history.history[\"loss\"])\n",
    "plt.plot(history.history[\"val_loss\"])\n",
    "plt.title(\"Model loss\")\n",
    "plt.ylabel(\"Loss\")\n",
    "plt.xlabel(\"Epoch\")\n",
    "plt.legend([\"Train\", \"Validation\"], loc=\"upper left\")\n",
    "plt.show()"
   ]
  },
  {
   "cell_type": "code",
   "execution_count": 12,
   "metadata": {},
   "outputs": [
    {
     "name": "stdout",
     "output_type": "stream",
     "text": [
      "8238/8238 [==============================] - 0s 15us/step\n",
      "The loss on the test set is 0.2447 and the accuracy is 90.762%\n"
     ]
    }
   ],
   "source": [
    "test_loss, test_acc = model.evaluate(X_test, y_test[\"y\"])\n",
    "print(f\"The loss on the test set is {test_loss:.4f} and the accuracy is {test_acc*100:.3f}%\")"
   ]
  },
  {
   "cell_type": "code",
   "execution_count": null,
   "metadata": {},
   "outputs": [],
   "source": []
  }
 ],
 "metadata": {
  "kernelspec": {
   "display_name": "Python 3",
   "language": "python",
   "name": "python3"
  },
  "language_info": {
   "codemirror_mode": {
    "name": "ipython",
    "version": 3
   },
   "file_extension": ".py",
   "mimetype": "text/x-python",
   "name": "python",
   "nbconvert_exporter": "python",
   "pygments_lexer": "ipython3",
   "version": "3.7.4"
  }
 },
 "nbformat": 4,
 "nbformat_minor": 2
}
